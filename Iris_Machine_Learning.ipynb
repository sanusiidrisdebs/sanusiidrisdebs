{
  "nbformat": 4,
  "nbformat_minor": 0,
  "metadata": {
    "colab": {
      "name": "Iris Machine Learning.ipynb",
      "provenance": [],
      "collapsed_sections": [],
      "authorship_tag": "ABX9TyM0vAnGyCJqGm5QjG0lnsNh",
      "include_colab_link": true
    },
    "kernelspec": {
      "name": "python3",
      "display_name": "Python 3"
    },
    "language_info": {
      "name": "python"
    }
  },
  "cells": [
    {
      "cell_type": "markdown",
      "metadata": {
        "id": "view-in-github",
        "colab_type": "text"
      },
      "source": [
        "<a href=\"https://colab.research.google.com/github/sanusiidrisdebs/sanusiidrisdebs/blob/main/Iris_Machine_Learning.ipynb\" target=\"_parent\"><img src=\"https://colab.research.google.com/assets/colab-badge.svg\" alt=\"Open In Colab\"/></a>"
      ]
    },
    {
      "cell_type": "code",
      "execution_count": 5,
      "metadata": {
        "id": "6I_M9n0-u0Bb"
      },
      "outputs": [],
      "source": [
        "# The goal is to predict the species of an Iris flower\n",
        "# based on the length and width of its sepals and petals\n",
        "#importing the necessary libraries from sklearn.datasets import load_iris\n",
        "from sklearn.datasets import load_iris\n",
        "from sklearn import tree\n",
        "from sklearn.metrics import accuracy_score\n",
        "import numpy as np\n"
      ]
    },
    {
      "cell_type": "markdown",
      "source": [
        "For example, the general workflow and process in data analysis involve these\n",
        "things: ● Identifying the problem (asking the right questions) ● Getting &\n",
        "processing data ● Visualizing data ● Choosing an approach and algorithm ●\n",
        "Evaluating the output ● Trying other approaches & comparing the results ●\n",
        "Knowing if the results are good enough (knowing when to stop) It’s good to\n",
        "determine the objective of the project first so we can set clear expectations and\n",
        "boundaries on our project. Second, let’s then gather data (or get access to it) so\n",
        "we can start the proper analysis. Let’s do that in the next chapter\n",
        "\n",
        "---\n",
        "\n",
        "\\"
      ],
      "metadata": {
        "id": "PmgkK1PQ6uhI"
      }
    },
    {
      "cell_type": "code",
      "source": [
        "#loading the iris dataset\n",
        "iris = load_iris()\n"
      ],
      "metadata": {
        "id": "CsCuFwxqvpsg"
      },
      "execution_count": 15,
      "outputs": []
    },
    {
      "cell_type": "markdown",
      "source": [
        ""
      ],
      "metadata": {
        "id": "V1RvAG_66dEK"
      }
    },
    {
      "cell_type": "code",
      "source": [
        "x = iris.data #array of the data\n",
        "y = iris.target #array of labels (i.e answers) of each data entry\n",
        "#getting label names i.e the three flower species\n",
        "y_names = iris.target_names\n",
        "#taking random indices to split the dataset into train and test\n",
        "test_ids = np.random.permutation(len(x))\n",
        "#splitting data and labels into train and test\n",
        "#keeping last 10 entries for testing, rest for training\n",
        "x_train = x[test_ids[:-10]]\n",
        "x_test = x[test_ids[-10:]]\n",
        "y_train = y[test_ids[:-10]]\n",
        "y_test = y[test_ids[-10:]]\n",
        "#classifying using decision tree\n",
        "clf = tree.DecisionTreeClassifier()\n",
        "#training (fitting) the classifier with the training set\n",
        "clf.fit(x_train, y_train)"
      ],
      "metadata": {
        "colab": {
          "base_uri": "https://localhost:8080/"
        },
        "id": "IgNXA8cFxmLG",
        "outputId": "9cbd2f28-b5be-46b2-dee3-a18e6c5526f0"
      },
      "execution_count": 14,
      "outputs": [
        {
          "output_type": "execute_result",
          "data": {
            "text/plain": [
              "DecisionTreeClassifier()"
            ]
          },
          "metadata": {},
          "execution_count": 14
        }
      ]
    },
    {
      "cell_type": "code",
      "source": [
        "#predictions on the test dataset\n",
        "pred = clf.predict(x_test)\n",
        "\n",
        "print(pred) #predicted labels i.e flower species\n",
        "print(y_test) #actual labels\n",
        "\n",
        "print((accuracy_score(pred, y_test))) #prediction accuracy\n"
      ],
      "metadata": {
        "colab": {
          "base_uri": "https://localhost:8080/"
        },
        "id": "bPsiid1rxzbY",
        "outputId": "b893badd-090a-4a38-dc8c-37787d349420"
      },
      "execution_count": 13,
      "outputs": [
        {
          "output_type": "stream",
          "name": "stdout",
          "text": [
            "[0 1 1 0 2 2 0 2 2 1]\n",
            "[0 1 1 0 2 2 0 2 2 1]\n",
            "1.0\n"
          ]
        }
      ]
    },
    {
      "cell_type": "code",
      "source": [
        "# The first line contains the predictions.\n",
        "# The second line contains the actual flower species as indicated in the\n",
        "# dataset. Notice the prediction accuracy is 100%, which means we correctly\n",
        "# predicted each flower’s species"
      ],
      "metadata": {
        "id": "mLshILCn229h"
      },
      "execution_count": null,
      "outputs": []
    },
    {
      "cell_type": "code",
      "source": [
        "# These might all seem confusing at first. What you need to understand is that the\n",
        "# goal here is to create a model that predicts a flower’s species. To do that, we split\n",
        "# the data into training and test sets. We run the algorithm on the training set and\n",
        "# use it against the test set to know the accuracy. The result is we’re able to predict\n",
        "# the flower’s species on the test set based on what the computer learned from the\n",
        "# training set"
      ],
      "metadata": {
        "id": "GEiv47IP3pE4"
      },
      "execution_count": null,
      "outputs": []
    },
    {
      "cell_type": "markdown",
      "source": [
        ""
      ],
      "metadata": {
        "id": "ozGHeD6Wy23a"
      }
    }
  ]
}